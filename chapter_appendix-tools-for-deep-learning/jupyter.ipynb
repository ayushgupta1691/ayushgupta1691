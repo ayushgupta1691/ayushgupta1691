{
  "cells": [
    {
      "cell_type": "markdown",
      "id": "31d9a4c9",
      "metadata": {
        "origin_pos": 0,
        "id": "31d9a4c9"
      },
      "source": [
        "# Using Jupyter Notebooks\n",
        ":label:`sec_jupyter`\n",
        "\n",
        "\n",
        "This section describes how to edit and run the code\n",
        "in each section of this book\n",
        "using the Jupyter Notebook. Make sure you have\n",
        "installed Jupyter and downloaded the\n",
        "code as described in\n",
        ":ref:`chap_installation`.\n",
        "If you want to know more about Jupyter see the excellent tutorial in\n",
        "their [documentation](https://jupyter.readthedocs.io/en/latest/).\n",
        "\n",
        "\n",
        "## Editing and Running the Code Locally\n",
        "\n",
        "Suppose that the local path of the book's code is `xx/yy/d2l-en/`. Use the shell to change the directory to this path (`cd xx/yy/d2l-en`) and run the command `jupyter notebook`. If your browser does not do this automatically, open http://localhost:8888 and you will see the interface of Jupyter and all the folders containing the code of the book, as shown in :numref:`fig_jupyter00`.\n",
        "\n",
        "![The folders containing the code of this book.](https://github.com/d2l-ai/d2l-en-colab/blob/master/img/jupyter00.png?raw=1)\n",
        ":width:`600px`\n",
        ":label:`fig_jupyter00`\n",
        "\n",
        "\n",
        "You can access the notebook files by clicking on the folder displayed on the webpage.\n",
        "They usually have the suffix \".ipynb\".\n",
        "For the sake of brevity, we create a temporary \"test.ipynb\" file.\n",
        "The content displayed after you click it is\n",
        "shown in :numref:`fig_jupyter01`.\n",
        "This notebook includes a markdown cell and a code cell. The content in the markdown cell includes \"This Is a Title\" and \"This is text.\".\n",
        "The code cell contains two lines of Python code.\n",
        "\n",
        "![Markdown and code cells in the \"text.ipynb\" file.](https://github.com/d2l-ai/d2l-en-colab/blob/master/img/jupyter01.png?raw=1)\n",
        ":width:`600px`\n",
        ":label:`fig_jupyter01`\n",
        "\n",
        "\n",
        "Double click on the markdown cell to enter edit mode.\n",
        "Add a new text string \"Hello world.\" at the end of the cell, as shown in :numref:`fig_jupyter02`.\n",
        "\n",
        "![Edit the markdown cell.](https://github.com/d2l-ai/d2l-en-colab/blob/master/img/jupyter02.png?raw=1)\n",
        ":width:`600px`\n",
        ":label:`fig_jupyter02`\n",
        "\n",
        "\n",
        "As demonstrated in :numref:`fig_jupyter03`,\n",
        "click \"Cell\" $\\rightarrow$ \"Run Cells\" in the menu bar to run the edited cell.\n",
        "\n",
        "![Run the cell.](https://github.com/d2l-ai/d2l-en-colab/blob/master/img/jupyter03.png?raw=1)\n",
        ":width:`600px`\n",
        ":label:`fig_jupyter03`\n",
        "\n",
        "After running, the markdown cell is shown in :numref:`fig_jupyter04`.\n",
        "\n",
        "![The markdown cell after running.](https://github.com/d2l-ai/d2l-en-colab/blob/master/img/jupyter04.png?raw=1)\n",
        ":width:`600px`\n",
        ":label:`fig_jupyter04`\n",
        "\n",
        "\n",
        "Next, click on the code cell. Multiply the elements by 2 after the last line of code, as shown in :numref:`fig_jupyter05`.\n",
        "\n",
        "![Edit the code cell.](https://github.com/d2l-ai/d2l-en-colab/blob/master/img/jupyter05.png?raw=1)\n",
        ":width:`600px`\n",
        ":label:`fig_jupyter05`\n",
        "\n",
        "\n",
        "You can also run the cell with a shortcut (\"Ctrl + Enter\" by default) and obtain the output result from :numref:`fig_jupyter06`.\n",
        "\n",
        "![Run the code cell to obtain the output.](https://github.com/d2l-ai/d2l-en-colab/blob/master/img/jupyter06.png?raw=1)\n",
        ":width:`600px`\n",
        ":label:`fig_jupyter06`\n",
        "\n",
        "\n",
        "When a notebook contains more cells, we can click \"Kernel\" $\\rightarrow$ \"Restart & Run All\" in the menu bar to run all the cells in the entire notebook. By clicking \"Help\" $\\rightarrow$ \"Edit Keyboard Shortcuts\" in the menu bar, you can edit the shortcuts according to your preferences.\n",
        "\n",
        "## Advanced Options\n",
        "\n",
        "Beyond local editing two things are quite important: editing the notebooks in the markdown format and running Jupyter remotely.\n",
        "The latter matters when we want to run the code on a faster server.\n",
        "The former matters since Jupyter's native ipynb format stores a lot of auxiliary data that is\n",
        "irrelevant to the content,\n",
        "mostly related to how and where the code is run.\n",
        "This is confusing for Git, making\n",
        "reviewing contributions very difficult.\n",
        "Fortunately there is an alternative---native editing in the markdown format.\n",
        "\n",
        "### Markdown Files in Jupyter\n",
        "\n",
        "If you wish to contribute to the content of this book, you need to modify the\n",
        "source file (md file, not ipynb file) on GitHub.\n",
        "Using the notedown plugin we\n",
        "can modify notebooks in the md format directly in Jupyter.\n",
        "\n",
        "\n",
        "First, install the notedown plugin, run the Jupyter Notebook, and load the plugin:\n",
        "\n",
        "```\n",
        "pip install d2l-notedown  # You may need to uninstall the original notedown.\n",
        "jupyter notebook --NotebookApp.contents_manager_class='notedown.NotedownContentsManager'\n",
        "```\n",
        "\n",
        "You may also turn on the notedown plugin by default whenever you run the Jupyter Notebook.\n",
        "First, generate a Jupyter Notebook configuration file (if it has already been generated, you can skip this step).\n",
        "\n",
        "```\n",
        "jupyter notebook --generate-config\n",
        "```\n",
        "\n",
        "Then, add the following line to the end of the Jupyter Notebook configuration file (for Linux or macOS, usually in the path `~/.jupyter/jupyter_notebook_config.py`):\n",
        "\n",
        "```\n",
        "c.NotebookApp.contents_manager_class = 'notedown.NotedownContentsManager'\n",
        "```\n",
        "\n",
        "After that, you only need to run the `jupyter notebook` command to turn on the notedown plugin by default.\n",
        "\n",
        "### Running Jupyter Notebooks on a Remote Server\n",
        "\n",
        "Sometimes, you may want to run Jupyter notebooks on a remote server and access it through a browser on your local computer. If Linux or macOS is installed on your local machine (Windows can also support this function through third-party software such as PuTTY), you can use port forwarding:\n",
        "\n",
        "```\n",
        "ssh myserver -L 8888:localhost:8888\n",
        "```\n",
        "\n",
        "The above string `myserver` is the address of the remote server.\n",
        "Then we can use http://localhost:8888 to access the remote server `myserver` that runs Jupyter notebooks. We will detail on how to run Jupyter notebooks on AWS instances\n",
        "later in this appendix.\n",
        "\n",
        "### Timing\n",
        "\n",
        "We can use the `ExecuteTime` plugin to time the execution of each code cell in Jupyter notebooks.\n",
        "Use the following commands to install the plugin:\n",
        "\n",
        "```\n",
        "pip install jupyter_contrib_nbextensions\n",
        "jupyter contrib nbextension install --user\n",
        "jupyter nbextension enable execute_time/ExecuteTime\n",
        "```\n",
        "\n",
        "## Summary\n",
        "\n",
        "* Using the Jupyter Notebook tool, we can edit, run, and contribute to each section of the book.\n",
        "* We can run Jupyter notebooks on remote servers using port forwarding.\n",
        "\n",
        "\n",
        "## Exercises\n",
        "\n",
        "1. Edit and run the code in this book with the Jupyter Notebook on your local machine.\n",
        "1. Edit and run the code in this book with the Jupyter Notebook *remotely* via port forwarding.\n",
        "1. Compare the running time of the operations $\\mathbf{A}^\\top \\mathbf{B}$ and $\\mathbf{A} \\mathbf{B}$ for two square matrices in $\\mathbb{R}^{1024 \\times 1024}$. Which one is faster?\n",
        "\n",
        "\n",
        "[Discussions](https://discuss.d2l.ai/t/421)\n"
      ]
    },
    {
      "cell_type": "code",
      "source": [
        "from pathlib import Path  # Fix: Add this import\n",
        "import pandas as pd\n",
        "import numpy as np\n",
        "import statsmodels.api as sm\n",
        "\n",
        "def calculate_sigma_ne(estimation_folder):\n",
        "    sigma_squared_list = []\n",
        "\n",
        "    for file in Path(estimation_folder).glob(\"*.csv\"):  # Now Path is defined\n",
        "        df = pd.read_csv(file)\n",
        "        est_data = df[df[\"Relative time\"].between(-100, -16)]\n",
        "        X = sm.add_constant(est_data[\"Benchmark Return (%)\"])\n",
        "        model = sm.OLS(est_data[\"Index Return (%)\"], X).fit()\n",
        "        residuals = model.resid\n",
        "        sigma_i_sq = residuals.var(ddof=1)\n",
        "        sigma_squared_list.append(sigma_i_sq)\n",
        "\n",
        "    sigma_ne = np.sqrt(np.mean(sigma_squared_list))\n",
        "    return sigma_ne\n",
        "\n",
        "sigma_ne = calculate_sigma_ne(\"/content/drive/MyDrive/est data\")\n",
        "print(f\"Aggregated standard deviation (σ_N,e): {sigma_ne:.6f}\")\n"
      ],
      "metadata": {
        "colab": {
          "base_uri": "https://localhost:8080/"
        },
        "id": "QHzHK5-C_JqF",
        "outputId": "7a2adb2e-a917-49b7-db74-9cf4b6e92e57"
      },
      "id": "QHzHK5-C_JqF",
      "execution_count": 4,
      "outputs": [
        {
          "output_type": "stream",
          "name": "stdout",
          "text": [
            "Aggregated standard deviation (σ_N,e): 1.044167\n"
          ]
        }
      ]
    },
    {
      "cell_type": "code",
      "source": [
        "import pandas as pd\n",
        "import numpy as np\n",
        "\n",
        "# Load your combined abnormal returns data\n",
        "combined_ar = pd.read_csv('/content/drive/MyDrive/combined_abnormal_returns.csv')\n",
        "\n",
        "# Set your calculated sigma_ne (replace with your actual value)\n",
        "sigma_ne = 1.044167  # Example value, replace with your own\n",
        "\n",
        "# Number of indices (all columns except 'Relative time')\n",
        "n_indices = combined_ar.shape[1] - 1\n",
        "window_length = len(combined_ar)  # Should be 31 for -15 to +15\n",
        "\n",
        "# 1. Calculate AAR\n",
        "returns_only = combined_ar.drop(columns=['Relative time'])\n",
        "combined_ar['AAR'] = returns_only.mean(axis=1)\n",
        "\n",
        "# 2. Calculate CAAR\n",
        "combined_ar['CAAR'] = combined_ar['AAR'].cumsum()\n",
        "\n",
        "# 3. Calculate t-statistics\n",
        "combined_ar['AAR_tstat'] = combined_ar['AAR'] / (sigma_ne / np.sqrt(n_indices))\n",
        "combined_ar['CAAR_tstat'] = combined_ar['CAAR'] / (sigma_ne * np.sqrt(window_length))\n",
        "\n",
        "# 4. Save the results to a new CSV file\n",
        "result_cols = ['Relative time', 'AAR', 'AAR_tstat', 'CAAR', 'CAAR_tstat']\n",
        "final_results = combined_ar[result_cols]\n",
        "final_results.to_csv('parametric_AAR_CAAR_results.csv', index=False)\n",
        "\n",
        "print(\"Results saved to 'parametric_AAR_CAAR_results.csv'.\")\n",
        "print(final_results.head())\n"
      ],
      "metadata": {
        "colab": {
          "base_uri": "https://localhost:8080/"
        },
        "id": "l1-5p7XpAX4y",
        "outputId": "b7299768-3750-45bb-df7a-b0197c577ea2"
      },
      "id": "l1-5p7XpAX4y",
      "execution_count": 7,
      "outputs": [
        {
          "output_type": "stream",
          "name": "stdout",
          "text": [
            "Results saved to 'parametric_AAR_CAAR_results.csv'.\n",
            "   Relative time       AAR  AAR_tstat      CAAR  CAAR_tstat\n",
            "0            -15  0.165111   0.651975  0.165111    0.028400\n",
            "1            -14  0.077242   0.305007  0.242354    0.041687\n",
            "2            -13 -0.003507  -0.013850  0.238846    0.041084\n",
            "3            -12 -0.085555  -0.337830  0.153292    0.026367\n",
            "4            -11 -0.267809  -1.057498 -0.114517   -0.019698\n"
          ]
        }
      ]
    },
    {
      "cell_type": "code",
      "source": [
        "import pandas as pd\n",
        "import numpy as np\n",
        "\n",
        "# Load your combined abnormal returns file\n",
        "combined_ar = pd.read_csv('/content/drive/MyDrive/combined_abnormal_returns.csv')\n",
        "\n",
        "# Calculate Average Abnormal Return (AAR)\n",
        "combined_ar['AAR'] = combined_ar.drop(columns=['Relative time']).mean(axis=1)\n",
        "\n",
        "# Calculate Cumulative Average Abnormal Return (CAAR)\n",
        "combined_ar['CAAR'] = combined_ar['AAR'].cumsum()\n"
      ],
      "metadata": {
        "id": "GhD60c-eEUp8"
      },
      "id": "GhD60c-eEUp8",
      "execution_count": 10,
      "outputs": []
    },
    {
      "cell_type": "code",
      "source": [
        "# Use your precomputed σ_N,e (replace 0.005328 with your value)\n",
        "sigma_ne = 1.044167\n",
        "n_indices = 17  # Number of indices\n",
        "window_length = 31  # -15 to +15 days\n",
        "\n",
        "combined_ar['AAR_tstat'] = combined_ar['AAR'] / (sigma_ne / np.sqrt(n_indices))\n",
        "combined_ar['CAAR_tstat'] = combined_ar['CAAR'] / (sigma_ne * np.sqrt(window_length))\n"
      ],
      "metadata": {
        "id": "MJhNXF2wI7wA"
      },
      "id": "MJhNXF2wI7wA",
      "execution_count": 11,
      "outputs": []
    },
    {
      "cell_type": "code",
      "source": [
        "from pathlib import Path\n",
        "import pandas as pd\n",
        "import numpy as np\n",
        "\n",
        "def corrado_test(combined_ar, estimation_folder):\n",
        "    all_data = []\n",
        "\n",
        "    # Identify index columns (skip 'Relative time')\n",
        "    index_cols = [col for col in combined_ar.columns if col != 'Relative time']\n",
        "\n",
        "    for idx_col in index_cols:\n",
        "        # Remove '_trimmed' from column to get base index name\n",
        "        index_name = idx_col.replace('_trimmed', '').strip()\n",
        "        est_file = Path(estimation_folder) / f\"est_{index_name}.csv\"\n",
        "\n",
        "        try:\n",
        "            est_data = pd.read_csv(est_file)\n",
        "            est_data = est_data[est_data[\"Relative time\"].between(-100, -16)]\n",
        "            # Calculate abnormal returns for estimation window\n",
        "            est_data['Abnormal Return'] = est_data['Index Return (%)'] - est_data['Benchmark Return (%)']\n",
        "\n",
        "            # Get event data from combined_ar\n",
        "            event_data = pd.DataFrame({\n",
        "                'Relative time': combined_ar['Relative time'],\n",
        "                'Abnormal Return': combined_ar[idx_col]\n",
        "            })\n",
        "\n",
        "            # Combine estimation + event data\n",
        "            full_data = pd.concat([est_data[['Relative time', 'Abnormal Return']], event_data])\n",
        "            full_data['Index Name'] = index_name\n",
        "            all_data.append(full_data)\n",
        "        except FileNotFoundError:\n",
        "            print(f\"File not found: {est_file} - Skipping {index_name}\")\n",
        "            continue\n",
        "\n",
        "    if not all_data:\n",
        "        raise ValueError(\"No valid data processed. Check filenames and folder path.\")\n",
        "\n",
        "    # Combine all indices\n",
        "    full_data = pd.concat(all_data)\n",
        "\n",
        "    # Rank abnormal returns within each index\n",
        "    full_data['Rank'] = full_data.groupby('Index Name')['Abnormal Return'] \\\n",
        "                                .transform(lambda x: x.rank(method='average'))\n",
        "\n",
        "    # Calculate Corrado t-stat for each event day\n",
        "    T = full_data['Relative time'].nunique()\n",
        "    results = []\n",
        "\n",
        "    for day in combined_ar['Relative time']:\n",
        "        day_ranks = full_data[full_data['Relative time'] == day]['Rank']\n",
        "        N = len(day_ranks)\n",
        "        numerator = (2 * day_ranks.sum() - (T - 1) * N)\n",
        "        denominator = np.sqrt(N * (T**2 - 1) / 3)\n",
        "        t_stat = numerator / denominator if denominator != 0 else np.nan\n",
        "        results.append(t_stat)\n",
        "\n",
        "    combined_ar['Corrado_tstat'] = results\n",
        "    return combined_ar\n",
        "\n",
        "# Usage example:\n",
        "combined_ar = pd.read_csv(\"/content/drive/MyDrive/combined_abnormal_returns.csv\")\n",
        "corrado_results = corrado_test(combined_ar, \"/content/drive/MyDrive/est data\")\n",
        "corrado_results.to_csv(\"corrado_test_results.csv\", index=False)\n",
        "print(corrado_results[['Relative time', 'Corrado_tstat']].head())\n"
      ],
      "metadata": {
        "colab": {
          "base_uri": "https://localhost:8080/"
        },
        "id": "UfRukoY0JOxb",
        "outputId": "7297b11d-1452-4444-a6db-36eaf5f747a7"
      },
      "id": "UfRukoY0JOxb",
      "execution_count": 17,
      "outputs": [
        {
          "output_type": "stream",
          "name": "stdout",
          "text": [
            "   Relative time  Corrado_tstat\n",
            "0            -15       1.039384\n",
            "1            -14       1.372567\n",
            "2            -13       0.561340\n",
            "3            -12      -0.307832\n",
            "4            -11      -1.111815\n"
          ]
        }
      ]
    },
    {
      "cell_type": "code",
      "source": [
        "import pandas as pd\n",
        "\n",
        "# Load your results\n",
        "parametric = pd.read_csv('/content/parametric_AAR_CAAR_results.csv')\n",
        "corrado = pd.read_csv('/content/corrado_test_results.csv')\n",
        "\n",
        "# Merge on 'Relative time'\n",
        "table = pd.merge(parametric, corrado[['Relative time', 'Corrado_tstat']], on='Relative time')\n",
        "\n",
        "# Save the main event study results table\n",
        "table.to_csv('event_study_main_table.csv', index=False)\n",
        "\n",
        "# Display\n",
        "print(table.head(10))\n"
      ],
      "metadata": {
        "colab": {
          "base_uri": "https://localhost:8080/"
        },
        "id": "_DrctruQQUqp",
        "outputId": "20f79b77-9f5d-4dd0-fbc8-5b301912ae1b"
      },
      "id": "_DrctruQQUqp",
      "execution_count": 19,
      "outputs": [
        {
          "output_type": "stream",
          "name": "stdout",
          "text": [
            "   Relative time       AAR  AAR_tstat      CAAR  CAAR_tstat  Corrado_tstat\n",
            "0            -15  0.165111   0.651975  0.165111    0.028400       1.039384\n",
            "1            -14  0.077242   0.305007  0.242354    0.041687       1.372567\n",
            "2            -13 -0.003507  -0.013850  0.238846    0.041084       0.561340\n",
            "3            -12 -0.085555  -0.337830  0.153292    0.026367      -0.307832\n",
            "4            -11 -0.267809  -1.057498 -0.114517   -0.019698      -1.111815\n",
            "5            -10  0.028465   0.112400 -0.086052   -0.014802       0.539611\n",
            "6             -9 -0.079900  -0.315502 -0.165952   -0.028545      -0.170213\n",
            "7             -8 -0.086761  -0.342593 -0.252713   -0.043469      -0.199185\n",
            "8             -7  0.028962   0.114363 -0.223751   -0.038487       0.923495\n",
            "9             -6 -0.408299  -1.612253 -0.632050   -0.108718      -1.720236\n"
          ]
        }
      ]
    },
    {
      "cell_type": "code",
      "source": [
        "table['AAR_sig'] = table['AAR_tstat'].apply(lambda x: '*' if abs(x) > 2.11 else '')\n",
        "table['CAAR_sig'] = table['CAAR_tstat'].apply(lambda x: '*' if abs(x) > 2.11 else '')\n",
        "table['Corrado_sig'] = table['Corrado_tstat'].apply(lambda x: '*' if abs(x) > 1.96 else '')\n",
        "\n",
        "# Save with significance\n",
        "table.to_csv('event_study_significance_table.csv', index=False)\n"
      ],
      "metadata": {
        "id": "3CpyMsJeQkUS"
      },
      "id": "3CpyMsJeQkUS",
      "execution_count": 20,
      "outputs": []
    },
    {
      "cell_type": "code",
      "source": [
        "def window_stats(df, start, end):\n",
        "    window = df[(df['Relative time'] >= start) & (df['Relative time'] <= end)]\n",
        "    caar = window['AAR'].sum()\n",
        "    caar_tstat = window['CAAR_tstat'].iloc[-1]  # Last day of window\n",
        "    return pd.Series({'Window': f'[{start},{end}]', 'CAAR': caar, 'CAAR_tstat': caar_tstat})\n",
        "\n",
        "windows = [[-3,3],[-7,7],[-1,1]]\n",
        "window_table = pd.concat([window_stats(table, w[0], w[1]) for w in windows], axis=1).T\n",
        "window_table.to_csv('event_study_short_window_table.csv', index=False)\n",
        "print(window_table)\n"
      ],
      "metadata": {
        "colab": {
          "base_uri": "https://localhost:8080/"
        },
        "id": "BrS8-sCdQuVD",
        "outputId": "c7a38a7f-4227-4bfe-9db3-a42bcabcafe2"
      },
      "id": "BrS8-sCdQuVD",
      "execution_count": 27,
      "outputs": [
        {
          "output_type": "stream",
          "name": "stdout",
          "text": [
            "   Window      CAAR CAAR_tstat\n",
            "0  [-3,3]  0.183799   -0.10936\n",
            "1  [-7,7] -0.724994  -0.168174\n",
            "2  [-1,1]  -0.15546  -0.129254\n"
          ]
        }
      ]
    },
    {
      "cell_type": "code",
      "source": [
        "event_day = corrado[corrado['Relative time'] == 0]\n",
        "event_day = event_day.drop(columns=['Corrado_tstat'])\n",
        "event_day = event_day.set_index('Relative time').T\n",
        "event_day.columns = ['Event Day AR']\n",
        "event_day.to_csv('event_day_abnormal_returns.csv')\n",
        "print(event_day)\n"
      ],
      "metadata": {
        "colab": {
          "base_uri": "https://localhost:8080/"
        },
        "id": "QyVG11YtQyZA",
        "outputId": "75b9ef8f-20f6-46d4-f138-7b9494ad94cb"
      },
      "id": "QyVG11YtQyZA",
      "execution_count": 22,
      "outputs": [
        {
          "output_type": "stream",
          "name": "stdout",
          "text": [
            "                                                    Event Day AR\n",
            "BSE Sensex 30 Historical Data_trimmed                   0.751750\n",
            "Budapest SE Historical Data_trimmed                     1.675614\n",
            "CAC 40 Historical Data_trimmed                         -1.212263\n",
            "DAX Historical Data_trimmed                            -1.958919\n",
            "FTSE 100 Historical Data_trimmed                       -0.504636\n",
            "FTSE MIB Historical Data_trimmed                       -2.300841\n",
            "FTSE Malaysia KLCI Historical Data_trimmed              0.500423\n",
            "FTSE Straits Times Singapore Historical Data_tr...      0.037197\n",
            "KOSPI Historical Data_trimmed                          -1.314568\n",
            "MOEX Russia Index Historical Data_trimmed               1.816962\n",
            "Nikkei 225 Historical Data_trimmed                      1.276961\n",
            "S&P_ASX 200 Historical Data_trimmed                     0.420392\n",
            "S&P_BMV IPC Historical Data_trimmed                     1.187513\n",
            "S&P_TSX Composite Historical Data_trimmed               0.168041\n",
            "Shanghai Composite Historical Data_trimmed             -0.491477\n",
            "South Africa Top 40 Historical Data_trimmed            -2.337411\n",
            "WIG20 Historical Data_trimmed                          -0.420466\n"
          ]
        }
      ]
    },
    {
      "cell_type": "code",
      "source": [
        "import matplotlib.pyplot as plt\n",
        "\n",
        "plt.figure(figsize=(10,5))\n",
        "plt.plot(table['Relative time'], table['AAR'], label='AAR')\n",
        "plt.plot(table['Relative time'], table['CAAR'], label='CAAR')\n",
        "plt.axvline(0, color='red', linestyle='--', label='Event Day')\n",
        "plt.xlabel('Relative time')\n",
        "plt.ylabel('Return')\n",
        "plt.legend()\n",
        "plt.title('AAR and CAAR Trend')\n",
        "plt.tight_layout()\n",
        "plt.savefig('AAR_CAAR_trend.png')\n",
        "plt.show()\n"
      ],
      "metadata": {
        "colab": {
          "base_uri": "https://localhost:8080/",
          "height": 483
        },
        "id": "-pxf5qc9Rl_Z",
        "outputId": "1ea7f79b-a36d-4bac-a949-51a9ec480380"
      },
      "id": "-pxf5qc9Rl_Z",
      "execution_count": 23,
      "outputs": [
        {
          "output_type": "display_data",
          "data": {
            "text/plain": [
              "<Figure size 1000x500 with 1 Axes>"
            ],
            "image/png": "[encoded data removed]"
          },
          "metadata": {}
        }
      ]
    },
    {
      "cell_type": "code",
      "source": [
        "import pandas as pd\n",
        "\n",
        "# Load data\n",
        "parametric = pd.read_csv('/content/parametric_AAR_CAAR_results.csv')\n",
        "corrado = pd.read_csv('/content/corrado_test_results.csv')\n",
        "\n",
        "# Merge and format\n",
        "table4 = pd.merge(parametric, corrado[['Relative time', 'Corrado_tstat']], on='Relative time')\n",
        "table4['AAR_sig'] = table4['AAR_tstat'].apply(lambda x: '*' if abs(x) > 2.11 else '')\n",
        "table4['CAAR_sig'] = table4['CAAR_tstat'].apply(lambda x: '*' if abs(x) > 2.11 else '')\n",
        "table4['Corrado_sig'] = table4['Corrado_tstat'].apply(lambda x: '*' if abs(x) > 1.96 else '')\n",
        "\n",
        "# Save\n",
        "table4.to_csv('replicated_table4.csv', index=False)\n"
      ],
      "metadata": {
        "id": "hcOgGhRBTHHW"
      },
      "id": "hcOgGhRBTHHW",
      "execution_count": 24,
      "outputs": []
    },
    {
      "cell_type": "code",
      "source": [
        "import pandas as pd\n",
        "\n",
        "# Classification dictionary (already defined from previous step)\n",
        "market_classification = {\n",
        "    'BSE Sensex 30 Historical Data_trimmed': 'Emerging',\n",
        "    'Budapest SE Historical Data_trimmed': 'Emerging',\n",
        "    'CAC 40 Historical Data_trimmed': 'Developed',\n",
        "    'DAX Historical Data_trimmed': 'Developed',\n",
        "    'FTSE 100 Historical Data_trimmed': 'Developed',\n",
        "    'FTSE MIB Historical Data_trimmed': 'Developed',\n",
        "    'FTSE Malaysia KLCI Historical Data_trimmed': 'Emerging',\n",
        "    'FTSE Straits Times Singapore Historical Data_trimmed': 'Developed',\n",
        "    'KOSPI Historical Data_trimmed': 'Emerging',\n",
        "    'MOEX Russia Index Historical Data_trimmed': 'Emerging',\n",
        "    'Nikkei 225 Historical Data_trimmed': 'Developed',\n",
        "    'S&P/ASX 200 Historical Data_trimmed': 'Developed',\n",
        "    'S&P/BMV IPC Historical Data_trimmed': 'Emerging',\n",
        "    'S&P/TSX Composite Historical Data_trimmed': 'Developed',\n",
        "    'Shanghai Composite Historical Data_trimmed': 'Emerging',\n",
        "    'South Africa Top 40 Historical Data_trimmed': 'Emerging',\n",
        "    'WIG20 Historical Data_trimmed': 'Emerging'\n",
        "}\n",
        "\n",
        "    # ... (add all 17 entries from our previous classification)\n",
        "\n",
        "\n",
        "# Load combined abnormal returns\n",
        "combined_ar = pd.read_csv('/content/drive/MyDrive/combined_abnormal_returns.csv')\n",
        "\n",
        "# Split into developed/emerging groups using actual column names\n",
        "developed = [col for col in combined_ar.columns\n",
        "             if market_classification.get(col) == 'Developed' and col != 'Relative time']\n",
        "emerging = [col for col in combined_ar.columns\n",
        "            if market_classification.get(col) == 'Emerging' and col != 'Relative time']\n",
        "\n",
        "def regional_stats(df, indices):\n",
        "    \"\"\"Calculate group-level AAR and CAAR\"\"\"\n",
        "    group_data = df[['Relative time'] + indices].copy()\n",
        "    group_data['AAR'] = group_data[indices].mean(axis=1)\n",
        "    group_data['CAAR'] = group_data['AAR'].cumsum()\n",
        "    return group_data[['Relative time', 'AAR', 'CAAR']]\n",
        "\n",
        "# Calculate metrics\n",
        "developed_stats = regional_stats(combined_ar, developed)\n",
        "emerging_stats = regional_stats(combined_ar, emerging)\n",
        "\n",
        "# Count significant days (threshold = 2.11 for 16 degrees of freedom)\n",
        "def count_significant(stats_df):\n",
        "    return {\n",
        "        'Sig_AAR': sum(stats_df['AAR'].abs() > 2.11),\n",
        "        'Sig_CAAR': sum(stats_df['CAAR'].abs() > 2.11)\n",
        "    }\n",
        "\n",
        "developed_counts = count_significant(developed_stats)\n",
        "emerging_counts = count_significant(emerging_stats)\n",
        "\n",
        "# Create final table\n",
        "results_df = pd.DataFrame({\n",
        "    'Market': ['Developed', 'Emerging'],\n",
        "    'Sig_AAR': [developed_counts['Sig_AAR'], emerging_counts['Sig_AAR']],\n",
        "    'Sig_CAAR': [developed_counts['Sig_CAAR'], emerging_counts['Sig_CAAR']]\n",
        "})\n",
        "\n",
        "# Save results\n",
        "results_df.to_csv('regional_significance_results.csv', index=False)\n",
        "\n",
        "# Also save full statistics for plotting\n",
        "developed_stats.to_csv('developed_market_stats.csv', index=False)\n",
        "emerging_stats.to_csv('emerging_market_stats.csv', index=False)\n"
      ],
      "metadata": {
        "id": "NZleUXkEV87e"
      },
      "id": "NZleUXkEV87e",
      "execution_count": 25,
      "outputs": []
    }
  ],
  "metadata": {
    "kernelspec": {
      "display_name": "Python 3",
      "name": "python3"
    },
    "language_info": {
      "name": "python"
    },
    "required_libs": [],
    "colab": {
      "provenance": []
    }
  },
  "nbformat": 4,
  "nbformat_minor": 5
}